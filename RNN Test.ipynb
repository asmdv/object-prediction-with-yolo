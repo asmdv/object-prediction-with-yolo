{
 "cells": [
  {
   "cell_type": "code",
   "execution_count": 2,
   "id": "initial_id",
   "metadata": {
    "collapsed": true,
    "ExecuteTime": {
     "end_time": "2024-04-26T08:06:54.543206Z",
     "start_time": "2024-04-26T08:06:54.303290Z"
    }
   },
   "outputs": [
    {
     "name": "stdout",
     "output_type": "stream",
     "text": [
      "Epoch [1/10], Loss: 0.0194\n",
      "Epoch [2/10], Loss: 0.0188\n",
      "Epoch [3/10], Loss: 0.0174\n",
      "Epoch [4/10], Loss: 0.0147\n",
      "Epoch [5/10], Loss: 0.0162\n",
      "Epoch [6/10], Loss: 0.0214\n",
      "Epoch [7/10], Loss: 0.0121\n",
      "Epoch [8/10], Loss: 0.0092\n",
      "Epoch [9/10], Loss: 0.0056\n",
      "Epoch [10/10], Loss: 0.0051\n",
      "Predicted: tensor(0.4618) | Actual: 0.4205989400187014\n",
      "Predicted: tensor(-0.8352) | Actual: -0.9010361530385885\n",
      "Predicted: tensor(0.0260) | Actual: 0.032094637224355876\n",
      "Predicted: tensor(-0.1932) | Actual: -0.16060901905133262\n",
      "Predicted: tensor(0.8885) | Actual: 0.9038436133178186\n",
      "Predicted: tensor(-0.2358) | Actual: -0.1990754078720623\n",
      "Predicted: tensor(-0.8549) | Actual: -0.9555279164689037\n",
      "Predicted: tensor(0.4266) | Actual: 0.38746159232629784\n",
      "Predicted: tensor(0.8334) | Actual: 0.8249887103636494\n",
      "Predicted: tensor(0.2861) | Actual: 0.25955816131390486\n"
     ]
    }
   ],
   "source": []
  },
  {
   "cell_type": "code",
   "execution_count": null,
   "outputs": [],
   "source": [],
   "metadata": {
    "collapsed": false
   },
   "id": "60658f42eb1aaa5a"
  }
 ],
 "metadata": {
  "kernelspec": {
   "display_name": "Python 3",
   "language": "python",
   "name": "python3"
  },
  "language_info": {
   "codemirror_mode": {
    "name": "ipython",
    "version": 2
   },
   "file_extension": ".py",
   "mimetype": "text/x-python",
   "name": "python",
   "nbconvert_exporter": "python",
   "pygments_lexer": "ipython2",
   "version": "2.7.6"
  }
 },
 "nbformat": 4,
 "nbformat_minor": 5
}
